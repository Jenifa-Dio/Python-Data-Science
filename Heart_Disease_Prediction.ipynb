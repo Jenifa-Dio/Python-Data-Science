{
  "nbformat": 4,
  "nbformat_minor": 0,
  "metadata": {
    "colab": {
      "provenance": [],
      "authorship_tag": "ABX9TyM9PC8QBThw645cv1EAj4s+",
      "include_colab_link": true
    },
    "kernelspec": {
      "name": "python3",
      "display_name": "Python 3"
    },
    "language_info": {
      "name": "python"
    }
  },
  "cells": [
    {
      "cell_type": "markdown",
      "metadata": {
        "id": "view-in-github",
        "colab_type": "text"
      },
      "source": [
        "<a href=\"https://colab.research.google.com/github/Jenifa-Dio/Python-Data-Science/blob/main/Heart_Disease_Prediction.ipynb\" target=\"_parent\"><img src=\"https://colab.research.google.com/assets/colab-badge.svg\" alt=\"Open In Colab\"/></a>"
      ]
    },
    {
      "cell_type": "code",
      "execution_count": 1,
      "metadata": {
        "colab": {
          "base_uri": "https://localhost:8080/",
          "height": 90
        },
        "id": "Lo62kOatDH-Q",
        "outputId": "9c7b8608-4dc7-4d87-affc-b615a5371757"
      },
      "outputs": [
        {
          "output_type": "display_data",
          "data": {
            "text/plain": [
              "<IPython.core.display.HTML object>"
            ],
            "text/html": [
              "\n",
              "     <input type=\"file\" id=\"files-8ecc8921-f5cf-4ada-b67d-db3b247d6ea1\" name=\"files[]\" multiple disabled\n",
              "        style=\"border:none\" />\n",
              "     <output id=\"result-8ecc8921-f5cf-4ada-b67d-db3b247d6ea1\">\n",
              "      Upload widget is only available when the cell has been executed in the\n",
              "      current browser session. Please rerun this cell to enable.\n",
              "      </output>\n",
              "      <script>// Copyright 2017 Google LLC\n",
              "//\n",
              "// Licensed under the Apache License, Version 2.0 (the \"License\");\n",
              "// you may not use this file except in compliance with the License.\n",
              "// You may obtain a copy of the License at\n",
              "//\n",
              "//      http://www.apache.org/licenses/LICENSE-2.0\n",
              "//\n",
              "// Unless required by applicable law or agreed to in writing, software\n",
              "// distributed under the License is distributed on an \"AS IS\" BASIS,\n",
              "// WITHOUT WARRANTIES OR CONDITIONS OF ANY KIND, either express or implied.\n",
              "// See the License for the specific language governing permissions and\n",
              "// limitations under the License.\n",
              "\n",
              "/**\n",
              " * @fileoverview Helpers for google.colab Python module.\n",
              " */\n",
              "(function(scope) {\n",
              "function span(text, styleAttributes = {}) {\n",
              "  const element = document.createElement('span');\n",
              "  element.textContent = text;\n",
              "  for (const key of Object.keys(styleAttributes)) {\n",
              "    element.style[key] = styleAttributes[key];\n",
              "  }\n",
              "  return element;\n",
              "}\n",
              "\n",
              "// Max number of bytes which will be uploaded at a time.\n",
              "const MAX_PAYLOAD_SIZE = 100 * 1024;\n",
              "\n",
              "function _uploadFiles(inputId, outputId) {\n",
              "  const steps = uploadFilesStep(inputId, outputId);\n",
              "  const outputElement = document.getElementById(outputId);\n",
              "  // Cache steps on the outputElement to make it available for the next call\n",
              "  // to uploadFilesContinue from Python.\n",
              "  outputElement.steps = steps;\n",
              "\n",
              "  return _uploadFilesContinue(outputId);\n",
              "}\n",
              "\n",
              "// This is roughly an async generator (not supported in the browser yet),\n",
              "// where there are multiple asynchronous steps and the Python side is going\n",
              "// to poll for completion of each step.\n",
              "// This uses a Promise to block the python side on completion of each step,\n",
              "// then passes the result of the previous step as the input to the next step.\n",
              "function _uploadFilesContinue(outputId) {\n",
              "  const outputElement = document.getElementById(outputId);\n",
              "  const steps = outputElement.steps;\n",
              "\n",
              "  const next = steps.next(outputElement.lastPromiseValue);\n",
              "  return Promise.resolve(next.value.promise).then((value) => {\n",
              "    // Cache the last promise value to make it available to the next\n",
              "    // step of the generator.\n",
              "    outputElement.lastPromiseValue = value;\n",
              "    return next.value.response;\n",
              "  });\n",
              "}\n",
              "\n",
              "/**\n",
              " * Generator function which is called between each async step of the upload\n",
              " * process.\n",
              " * @param {string} inputId Element ID of the input file picker element.\n",
              " * @param {string} outputId Element ID of the output display.\n",
              " * @return {!Iterable<!Object>} Iterable of next steps.\n",
              " */\n",
              "function* uploadFilesStep(inputId, outputId) {\n",
              "  const inputElement = document.getElementById(inputId);\n",
              "  inputElement.disabled = false;\n",
              "\n",
              "  const outputElement = document.getElementById(outputId);\n",
              "  outputElement.innerHTML = '';\n",
              "\n",
              "  const pickedPromise = new Promise((resolve) => {\n",
              "    inputElement.addEventListener('change', (e) => {\n",
              "      resolve(e.target.files);\n",
              "    });\n",
              "  });\n",
              "\n",
              "  const cancel = document.createElement('button');\n",
              "  inputElement.parentElement.appendChild(cancel);\n",
              "  cancel.textContent = 'Cancel upload';\n",
              "  const cancelPromise = new Promise((resolve) => {\n",
              "    cancel.onclick = () => {\n",
              "      resolve(null);\n",
              "    };\n",
              "  });\n",
              "\n",
              "  // Wait for the user to pick the files.\n",
              "  const files = yield {\n",
              "    promise: Promise.race([pickedPromise, cancelPromise]),\n",
              "    response: {\n",
              "      action: 'starting',\n",
              "    }\n",
              "  };\n",
              "\n",
              "  cancel.remove();\n",
              "\n",
              "  // Disable the input element since further picks are not allowed.\n",
              "  inputElement.disabled = true;\n",
              "\n",
              "  if (!files) {\n",
              "    return {\n",
              "      response: {\n",
              "        action: 'complete',\n",
              "      }\n",
              "    };\n",
              "  }\n",
              "\n",
              "  for (const file of files) {\n",
              "    const li = document.createElement('li');\n",
              "    li.append(span(file.name, {fontWeight: 'bold'}));\n",
              "    li.append(span(\n",
              "        `(${file.type || 'n/a'}) - ${file.size} bytes, ` +\n",
              "        `last modified: ${\n",
              "            file.lastModifiedDate ? file.lastModifiedDate.toLocaleDateString() :\n",
              "                                    'n/a'} - `));\n",
              "    const percent = span('0% done');\n",
              "    li.appendChild(percent);\n",
              "\n",
              "    outputElement.appendChild(li);\n",
              "\n",
              "    const fileDataPromise = new Promise((resolve) => {\n",
              "      const reader = new FileReader();\n",
              "      reader.onload = (e) => {\n",
              "        resolve(e.target.result);\n",
              "      };\n",
              "      reader.readAsArrayBuffer(file);\n",
              "    });\n",
              "    // Wait for the data to be ready.\n",
              "    let fileData = yield {\n",
              "      promise: fileDataPromise,\n",
              "      response: {\n",
              "        action: 'continue',\n",
              "      }\n",
              "    };\n",
              "\n",
              "    // Use a chunked sending to avoid message size limits. See b/62115660.\n",
              "    let position = 0;\n",
              "    do {\n",
              "      const length = Math.min(fileData.byteLength - position, MAX_PAYLOAD_SIZE);\n",
              "      const chunk = new Uint8Array(fileData, position, length);\n",
              "      position += length;\n",
              "\n",
              "      const base64 = btoa(String.fromCharCode.apply(null, chunk));\n",
              "      yield {\n",
              "        response: {\n",
              "          action: 'append',\n",
              "          file: file.name,\n",
              "          data: base64,\n",
              "        },\n",
              "      };\n",
              "\n",
              "      let percentDone = fileData.byteLength === 0 ?\n",
              "          100 :\n",
              "          Math.round((position / fileData.byteLength) * 100);\n",
              "      percent.textContent = `${percentDone}% done`;\n",
              "\n",
              "    } while (position < fileData.byteLength);\n",
              "  }\n",
              "\n",
              "  // All done.\n",
              "  yield {\n",
              "    response: {\n",
              "      action: 'complete',\n",
              "    }\n",
              "  };\n",
              "}\n",
              "\n",
              "scope.google = scope.google || {};\n",
              "scope.google.colab = scope.google.colab || {};\n",
              "scope.google.colab._files = {\n",
              "  _uploadFiles,\n",
              "  _uploadFilesContinue,\n",
              "};\n",
              "})(self);\n",
              "</script> "
            ]
          },
          "metadata": {}
        },
        {
          "output_type": "stream",
          "name": "stdout",
          "text": [
            "Saving kaggle (3).json to kaggle (3).json\n"
          ]
        },
        {
          "output_type": "execute_result",
          "data": {
            "text/plain": [
              "{'kaggle (3).json': b'{\"username\":\"jenifakorneli\",\"key\":\"7d4a031a12b156f7c22440d77742e3c7\"}'}"
            ]
          },
          "metadata": {},
          "execution_count": 1
        }
      ],
      "source": [
        "from google.colab import files\n",
        "files.upload()  # Upload kaggle.json here"
      ]
    },
    {
      "cell_type": "code",
      "source": [
        "!mkdir -p ~/.kaggle\n",
        "!cp kaggle.json ~/.kaggle/\n",
        "!chmod 600 ~/.kaggle/kaggle.json\n"
      ],
      "metadata": {
        "colab": {
          "base_uri": "https://localhost:8080/"
        },
        "id": "HBbqcT8jDh71",
        "outputId": "b12a68f2-3edf-4898-fd58-38b1fdf924e2"
      },
      "execution_count": 2,
      "outputs": [
        {
          "output_type": "stream",
          "name": "stdout",
          "text": [
            "cp: cannot stat 'kaggle.json': No such file or directory\n",
            "chmod: cannot access '/root/.kaggle/kaggle.json': No such file or directory\n"
          ]
        }
      ]
    },
    {
      "cell_type": "code",
      "source": [
        "!kaggle datasets download -d mfarhaannazirkhan/heart-dataset/"
      ],
      "metadata": {
        "colab": {
          "base_uri": "https://localhost:8080/"
        },
        "id": "M2M8Gm6jDktr",
        "outputId": "e3b4b2c9-a3f4-4a14-a097-f77ae36d2a7b"
      },
      "execution_count": 3,
      "outputs": [
        {
          "output_type": "stream",
          "name": "stdout",
          "text": [
            "Dataset URL: https://www.kaggle.com/datasets/mfarhaannazirkhan/heart-dataset/versions/\n",
            "License(s): Attribution 4.0 International (CC BY 4.0)\n",
            "Downloading heart-dataset.zip to /content\n",
            "  0% 0.00/27.5k [00:00<?, ?B/s]\n",
            "100% 27.5k/27.5k [00:00<00:00, 6.92MB/s]\n"
          ]
        }
      ]
    },
    {
      "cell_type": "code",
      "source": [
        "import zipfile\n",
        "with zipfile.ZipFile('/content/heart-dataset.zip', 'r') as zip_ref:\n",
        "    zip_ref.extractall('data_folder')\n"
      ],
      "metadata": {
        "id": "gdjYC1YiDyp6"
      },
      "execution_count": 8,
      "outputs": []
    },
    {
      "cell_type": "code",
      "source": [
        "import pandas as pd\n",
        "import numpy as np\n",
        "from sklearn.model_selection import train_test_split\n",
        "from sklearn.linear_model import LinearRegression\n",
        "from sklearn.metrics import mean_squared_error, r2_score\n",
        "import matplotlib.pyplot as plt"
      ],
      "metadata": {
        "id": "XkiAsKkXEEVb"
      },
      "execution_count": 9,
      "outputs": []
    },
    {
      "cell_type": "code",
      "source": [
        "# Read the file with whitespace as the delimiter\n",
        "df = pd.read_csv('/content/data_folder/raw_merged_heart_dataset.csv')\n",
        "\n",
        "# Display the first few rows to verify\n",
        "print(df.head())\n",
        "print(df.info())"
      ],
      "metadata": {
        "colab": {
          "base_uri": "https://localhost:8080/"
        },
        "id": "45yrg3qKELAi",
        "outputId": "ccb338af-3b8f-43a4-db9c-48717236b50c"
      },
      "execution_count": 16,
      "outputs": [
        {
          "output_type": "stream",
          "name": "stdout",
          "text": [
            "   age  sex  cp trestbps chol fbs restecg thalachh exang  oldpeak slope ca  \\\n",
            "0   63    1   3      145  233   1       0      150     0      2.3     0  0   \n",
            "1   37    1   2      130  250   0       1      187     0      3.5     0  0   \n",
            "2   41    0   1      130  204   0       0      172     0      1.4     2  0   \n",
            "3   56    1   1      120  236   0       1      178     0      0.8     2  0   \n",
            "4   57    0   0      120  354   0       1      163     1      0.6     2  0   \n",
            "\n",
            "  thal  target  \n",
            "0    1       1  \n",
            "1    2       1  \n",
            "2    2       1  \n",
            "3    2       1  \n",
            "4    2       1  \n",
            "<class 'pandas.core.frame.DataFrame'>\n",
            "RangeIndex: 2181 entries, 0 to 2180\n",
            "Data columns (total 14 columns):\n",
            " #   Column    Non-Null Count  Dtype  \n",
            "---  ------    --------------  -----  \n",
            " 0   age       2181 non-null   int64  \n",
            " 1   sex       2181 non-null   int64  \n",
            " 2   cp        2181 non-null   int64  \n",
            " 3   trestbps  2181 non-null   object \n",
            " 4   chol      2181 non-null   object \n",
            " 5   fbs       2181 non-null   object \n",
            " 6   restecg   2181 non-null   object \n",
            " 7   thalachh  2181 non-null   object \n",
            " 8   exang     2181 non-null   object \n",
            " 9   oldpeak   2181 non-null   float64\n",
            " 10  slope     2181 non-null   object \n",
            " 11  ca        2181 non-null   object \n",
            " 12  thal      2181 non-null   object \n",
            " 13  target    2181 non-null   int64  \n",
            "dtypes: float64(1), int64(4), object(9)\n",
            "memory usage: 238.7+ KB\n",
            "None\n"
          ]
        }
      ]
    },
    {
      "cell_type": "code",
      "source": [
        "print(df.duplicated().sum())\n",
        "df.drop_duplicates(inplace = True)"
      ],
      "metadata": {
        "colab": {
          "base_uri": "https://localhost:8080/"
        },
        "id": "LEkc8-06FuEx",
        "outputId": "21817422-147d-4535-e434-ae83e3dffb9c"
      },
      "execution_count": 17,
      "outputs": [
        {
          "output_type": "stream",
          "name": "stdout",
          "text": [
            "1287\n"
          ]
        }
      ]
    },
    {
      "cell_type": "code",
      "source": [
        "print(df.duplicated().sum())"
      ],
      "metadata": {
        "colab": {
          "base_uri": "https://localhost:8080/"
        },
        "id": "nkKSWW4MF9ZP",
        "outputId": "8b85e468-f8af-47f4-cbec-f4131da1f516"
      },
      "execution_count": 18,
      "outputs": [
        {
          "output_type": "stream",
          "name": "stdout",
          "text": [
            "0\n"
          ]
        }
      ]
    },
    {
      "cell_type": "code",
      "source": [
        "print(df.isna().sum())"
      ],
      "metadata": {
        "colab": {
          "base_uri": "https://localhost:8080/"
        },
        "id": "v2_Lp78xGA93",
        "outputId": "05c646fa-e029-4920-f805-a35b8cba989a"
      },
      "execution_count": 19,
      "outputs": [
        {
          "output_type": "stream",
          "name": "stdout",
          "text": [
            "age         0\n",
            "sex         0\n",
            "cp          0\n",
            "trestbps    0\n",
            "chol        0\n",
            "fbs         0\n",
            "restecg     0\n",
            "thalachh    0\n",
            "exang       0\n",
            "oldpeak     0\n",
            "slope       0\n",
            "ca          0\n",
            "thal        0\n",
            "target      0\n",
            "dtype: int64\n"
          ]
        }
      ]
    },
    {
      "cell_type": "code",
      "source": [
        "for i in df.columns:\n",
        "    print(i)\n",
        "    print(df[i].unique())\n",
        "    print(df[i].value_counts())\n",
        "    print('\\n')"
      ],
      "metadata": {
        "colab": {
          "base_uri": "https://localhost:8080/"
        },
        "id": "BGDs11l2GE-p",
        "outputId": "f5e70f99-c0ae-419f-da3a-b26e7ab5c0d5"
      },
      "execution_count": 20,
      "outputs": [
        {
          "output_type": "stream",
          "name": "stdout",
          "text": [
            "age\n",
            "[63 37 41 56 57 44 52 54 48 49 64 58 50 66 43 69 59 42 61 40 71 51 65 53\n",
            " 46 45 39 47 62 34 35 29 55 60 67 68 74 76 70 38 77 28 30 31 32 33 36]\n",
            "age\n",
            "54    59\n",
            "58    45\n",
            "52    42\n",
            "57    34\n",
            "59    34\n",
            "51    33\n",
            "48    33\n",
            "55    33\n",
            "56    32\n",
            "41    30\n",
            "50    29\n",
            "60    29\n",
            "43    28\n",
            "53    28\n",
            "44    28\n",
            "46    27\n",
            "62    25\n",
            "49    24\n",
            "45    24\n",
            "42    23\n",
            "64    21\n",
            "47    19\n",
            "65    19\n",
            "39    18\n",
            "63    18\n",
            "61    17\n",
            "67    17\n",
            "40    14\n",
            "66    14\n",
            "35    13\n",
            "37    12\n",
            "38    10\n",
            "70     9\n",
            "34     8\n",
            "68     7\n",
            "69     6\n",
            "71     6\n",
            "36     5\n",
            "29     4\n",
            "32     4\n",
            "77     3\n",
            "76     2\n",
            "31     2\n",
            "33     2\n",
            "74     2\n",
            "28     1\n",
            "30     1\n",
            "Name: count, dtype: int64\n",
            "\n",
            "\n",
            "sex\n",
            "[1 0]\n",
            "sex\n",
            "1    624\n",
            "0    270\n",
            "Name: count, dtype: int64\n",
            "\n",
            "\n",
            "cp\n",
            "[3 2 1 0 4]\n",
            "cp\n",
            "4    252\n",
            "2    236\n",
            "3    161\n",
            "0    156\n",
            "1     89\n",
            "Name: count, dtype: int64\n",
            "\n",
            "\n",
            "trestbps\n",
            "['145' '130' '120' '140' '172' '150' '110' '135' '160' '105' '125' '142'\n",
            " '155' '104' '138' '128' '108' '134' '122' '115' '118' '100' '124' '94'\n",
            " '112' '102' '152' '101' '132' '148' '178' '129' '180' '136' '126' '106'\n",
            " '156' '170' '146' '117' '200' '165' '174' '192' '144' '123' '154' '114'\n",
            " '164' '98' '190' '?' '113' '92' '158']\n",
            "trestbps\n",
            "120    138\n",
            "130    124\n",
            "140    114\n",
            "150     61\n",
            "110     59\n",
            "160     43\n",
            "125     31\n",
            "128     24\n",
            "138     23\n",
            "112     21\n",
            "135     18\n",
            "145     17\n",
            "132     17\n",
            "118     16\n",
            "100     14\n",
            "124     14\n",
            "108     13\n",
            "180     12\n",
            "170     11\n",
            "134     10\n",
            "122      9\n",
            "152      9\n",
            "115      8\n",
            "142      7\n",
            "105      7\n",
            "136      7\n",
            "126      6\n",
            "102      4\n",
            "178      4\n",
            "144      4\n",
            "94       4\n",
            "146      3\n",
            "106      3\n",
            "200      3\n",
            "148      3\n",
            "155      3\n",
            "154      2\n",
            "192      2\n",
            "165      2\n",
            "174      2\n",
            "123      2\n",
            "101      2\n",
            "117      2\n",
            "156      2\n",
            "129      2\n",
            "104      2\n",
            "172      2\n",
            "114      1\n",
            "164      1\n",
            "98       1\n",
            "190      1\n",
            "?        1\n",
            "113      1\n",
            "92       1\n",
            "158      1\n",
            "Name: count, dtype: int64\n",
            "\n",
            "\n",
            "chol\n",
            "['233' '250' '204' '236' '354' '192' '294' '263' '199' '168' '239' '275'\n",
            " '266' '211' '283' '219' '340' '226' '247' '234' '243' '302' '212' '175'\n",
            " '417' '197' '198' '177' '273' '213' '304' '232' '269' '360' '308' '245'\n",
            " '208' '264' '321' '325' '235' '257' '216' '256' '231' '141' '252' '201'\n",
            " '222' '260' '182' '303' '265' '309' '186' '203' '183' '220' '209' '258'\n",
            " '227' '261' '221' '205' '240' '318' '298' '564' '277' '214' '248' '255'\n",
            " '207' '223' '288' '160' '394' '315' '246' '244' '270' '195' '196' '254'\n",
            " '126' '313' '262' '215' '193' '271' '268' '267' '210' '295' '306' '178'\n",
            " '242' '180' '228' '149' '278' '253' '342' '157' '286' '229' '284' '224'\n",
            " '206' '167' '230' '335' '276' '353' '225' '330' '290' '172' '305' '188'\n",
            " '282' '185' '326' '274' '164' '307' '249' '341' '407' '217' '174' '281'\n",
            " '289' '322' '299' '300' '293' '184' '409' '259' '200' '327' '237' '218'\n",
            " '319' '166' '311' '169' '187' '176' '241' '131' '132' '?' '161' '173'\n",
            " '194' '297' '292' '339' '147' '291' '358' '412' '238' '163' '280' '202'\n",
            " '328' '129' '190' '179' '272' '100' '468' '320' '312' '171' '365' '344'\n",
            " '85' '347' '251' '287' '156' '117' '466' '338' '529' '392' '329' '355'\n",
            " '603' '404' '518' '285' '279' '388' '336' '491' '331' '393']\n",
            "chol\n",
            "?      22\n",
            "234    14\n",
            "254    13\n",
            "211    12\n",
            "204    12\n",
            "       ..\n",
            "468     1\n",
            "312     1\n",
            "171     1\n",
            "365     1\n",
            "393     1\n",
            "Name: count, Length: 202, dtype: int64\n",
            "\n",
            "\n",
            "fbs\n",
            "['1' '0' '?']\n",
            "fbs\n",
            "0    775\n",
            "1    111\n",
            "?      8\n",
            "Name: count, dtype: int64\n",
            "\n",
            "\n",
            "restecg\n",
            "['0' '1' '2' '?']\n",
            "restecg\n",
            "0    528\n",
            "1    218\n",
            "2    147\n",
            "?      1\n",
            "Name: count, dtype: int64\n",
            "\n",
            "\n",
            "thalachh\n",
            "['150' '187' '172' '178' '163' '148' '153' '173' '162' '174' '160' '139'\n",
            " '171' '144' '158' '114' '151' '161' '179' '137' '157' '123' '152' '168'\n",
            " '140' '188' '125' '170' '165' '142' '180' '143' '182' '156' '115' '149'\n",
            " '146' '175' '186' '185' '159' '130' '190' '132' '147' '154' '202' '166'\n",
            " '164' '184' '122' '169' '138' '111' '145' '194' '131' '133' '155' '167'\n",
            " '192' '121' '96' '126' '105' '181' '116' '108' '129' '120' '112' '128'\n",
            " '109' '113' '99' '177' '141' '136' '97' '127' '103' '124' '88' '195'\n",
            " '106' '95' '117' '71' '118' '134' '90' '98' '176' '135' '110' '?' '100'\n",
            " '87' '102' '92' '91' '82' '119' '94']\n",
            "thalachh\n",
            "150    43\n",
            "140    32\n",
            "160    30\n",
            "130    25\n",
            "170    24\n",
            "       ..\n",
            "87      1\n",
            "102     1\n",
            "91      1\n",
            "82      1\n",
            "119     1\n",
            "Name: count, Length: 104, dtype: int64\n",
            "\n",
            "\n",
            "exang\n",
            "['0' '1' '?']\n",
            "exang\n",
            "0    602\n",
            "1    291\n",
            "?      1\n",
            "Name: count, dtype: int64\n",
            "\n",
            "\n",
            "oldpeak\n",
            "[2.3 3.5 1.4 0.8 0.6 0.4 1.3 0.  0.5 1.6 1.2 0.2 1.8 1.  2.6 1.5 3.  2.4\n",
            " 0.1 1.9 4.2 1.1 2.  0.7 0.3 0.9 3.6 3.1 3.2 2.5 2.2 2.8 3.4 6.2 4.  5.6\n",
            " 2.9 2.1 3.8 4.4 5. ]\n",
            "oldpeak\n",
            "0.0    374\n",
            "1.0     70\n",
            "2.0     49\n",
            "1.2     32\n",
            "1.4     28\n",
            "1.5     27\n",
            "0.6     27\n",
            "0.8     26\n",
            "0.2     23\n",
            "1.6     23\n",
            "3.0     20\n",
            "1.8     20\n",
            "0.4     18\n",
            "0.1     14\n",
            "2.6     13\n",
            "0.5     12\n",
            "2.8     12\n",
            "1.9     11\n",
            "3.6      8\n",
            "2.2      8\n",
            "0.9      7\n",
            "0.3      7\n",
            "2.5      7\n",
            "4.0      7\n",
            "2.4      6\n",
            "3.4      5\n",
            "2.3      5\n",
            "3.2      4\n",
            "4.2      4\n",
            "1.1      4\n",
            "3.5      3\n",
            "2.9      3\n",
            "2.1      3\n",
            "3.1      2\n",
            "0.7      2\n",
            "6.2      2\n",
            "1.3      2\n",
            "5.6      2\n",
            "3.8      2\n",
            "4.4      1\n",
            "5.0      1\n",
            "Name: count, dtype: int64\n",
            "\n",
            "\n",
            "slope\n",
            "['0' '2' '1' '?' '3']\n",
            "slope\n",
            "2    363\n",
            "1    299\n",
            "?    189\n",
            "0     24\n",
            "3     19\n",
            "Name: count, dtype: int64\n",
            "\n",
            "\n",
            "ca\n",
            "['0' '2' '1' '3' '4' '?']\n",
            "ca\n",
            "0    350\n",
            "?    290\n",
            "1    133\n",
            "2     75\n",
            "3     41\n",
            "4      5\n",
            "Name: count, dtype: int64\n",
            "\n",
            "\n",
            "thal\n",
            "['1' '2' '3' '0' '?' '6' '7']\n",
            "thal\n",
            "3    289\n",
            "?    265\n",
            "2    176\n",
            "7    115\n",
            "6     24\n",
            "1     22\n",
            "0      3\n",
            "Name: count, dtype: int64\n",
            "\n",
            "\n",
            "target\n",
            "[1 0]\n",
            "target\n",
            "0    497\n",
            "1    397\n",
            "Name: count, dtype: int64\n",
            "\n",
            "\n"
          ]
        }
      ]
    },
    {
      "cell_type": "code",
      "source": [
        "def clean_trestbps(val):\n",
        "  if(val=='?'):\n",
        "    return np.nan\n",
        "  else:\n",
        "    return int(val)\n",
        "\n",
        "df['trestbps'] = df['trestbps'].apply(clean_trestbps)\n",
        "df['trestbps'].head()"
      ],
      "metadata": {
        "colab": {
          "base_uri": "https://localhost:8080/",
          "height": 241
        },
        "id": "TtO3cszeGKgX",
        "outputId": "3cdebc2d-71ae-47c8-a773-8c0126d055db"
      },
      "execution_count": 21,
      "outputs": [
        {
          "output_type": "execute_result",
          "data": {
            "text/plain": [
              "0    145.0\n",
              "1    130.0\n",
              "2    130.0\n",
              "3    120.0\n",
              "4    120.0\n",
              "Name: trestbps, dtype: float64"
            ],
            "text/html": [
              "<div>\n",
              "<style scoped>\n",
              "    .dataframe tbody tr th:only-of-type {\n",
              "        vertical-align: middle;\n",
              "    }\n",
              "\n",
              "    .dataframe tbody tr th {\n",
              "        vertical-align: top;\n",
              "    }\n",
              "\n",
              "    .dataframe thead th {\n",
              "        text-align: right;\n",
              "    }\n",
              "</style>\n",
              "<table border=\"1\" class=\"dataframe\">\n",
              "  <thead>\n",
              "    <tr style=\"text-align: right;\">\n",
              "      <th></th>\n",
              "      <th>trestbps</th>\n",
              "    </tr>\n",
              "  </thead>\n",
              "  <tbody>\n",
              "    <tr>\n",
              "      <th>0</th>\n",
              "      <td>145.0</td>\n",
              "    </tr>\n",
              "    <tr>\n",
              "      <th>1</th>\n",
              "      <td>130.0</td>\n",
              "    </tr>\n",
              "    <tr>\n",
              "      <th>2</th>\n",
              "      <td>130.0</td>\n",
              "    </tr>\n",
              "    <tr>\n",
              "      <th>3</th>\n",
              "      <td>120.0</td>\n",
              "    </tr>\n",
              "    <tr>\n",
              "      <th>4</th>\n",
              "      <td>120.0</td>\n",
              "    </tr>\n",
              "  </tbody>\n",
              "</table>\n",
              "</div><br><label><b>dtype:</b> float64</label>"
            ]
          },
          "metadata": {},
          "execution_count": 21
        }
      ]
    },
    {
      "cell_type": "code",
      "source": [
        "df['trestbps'].unique()"
      ],
      "metadata": {
        "colab": {
          "base_uri": "https://localhost:8080/"
        },
        "id": "zsolZkPMGSI_",
        "outputId": "62f5a1c6-18dc-4528-d55f-16c73624e015"
      },
      "execution_count": 22,
      "outputs": [
        {
          "output_type": "execute_result",
          "data": {
            "text/plain": [
              "array([145., 130., 120., 140., 172., 150., 110., 135., 160., 105., 125.,\n",
              "       142., 155., 104., 138., 128., 108., 134., 122., 115., 118., 100.,\n",
              "       124.,  94., 112., 102., 152., 101., 132., 148., 178., 129., 180.,\n",
              "       136., 126., 106., 156., 170., 146., 117., 200., 165., 174., 192.,\n",
              "       144., 123., 154., 114., 164.,  98., 190.,  nan, 113.,  92., 158.])"
            ]
          },
          "metadata": {},
          "execution_count": 22
        }
      ]
    },
    {
      "cell_type": "code",
      "source": [
        "print(df['trestbps'].isnull().sum())\n",
        "df.dropna(subset=['trestbps'], inplace=True)"
      ],
      "metadata": {
        "colab": {
          "base_uri": "https://localhost:8080/"
        },
        "id": "86_-JIXIGX9v",
        "outputId": "cbd71e61-3cd3-479b-e020-c72862bdce1e"
      },
      "execution_count": 23,
      "outputs": [
        {
          "output_type": "stream",
          "name": "stdout",
          "text": [
            "1\n"
          ]
        }
      ]
    },
    {
      "cell_type": "code",
      "source": [
        "df['trestbps'].isnull().sum()"
      ],
      "metadata": {
        "colab": {
          "base_uri": "https://localhost:8080/"
        },
        "id": "lxjq6NAGGc6v",
        "outputId": "043ad1dd-1297-400b-c4e7-47b1a9849b82"
      },
      "execution_count": 24,
      "outputs": [
        {
          "output_type": "execute_result",
          "data": {
            "text/plain": [
              "0"
            ]
          },
          "metadata": {},
          "execution_count": 24
        }
      ]
    },
    {
      "cell_type": "code",
      "source": [
        "def clean_chol(val):\n",
        "  if(val=='?'):\n",
        "    return np.nan\n",
        "  else:\n",
        "    return int(val)\n",
        "\n",
        "df['chol'] = df['chol'].apply(clean_chol)\n",
        "df['chol'].head()"
      ],
      "metadata": {
        "colab": {
          "base_uri": "https://localhost:8080/",
          "height": 241
        },
        "id": "5RWimmyfGhpf",
        "outputId": "363f8f07-359e-443d-bcfe-3650e7a787c7"
      },
      "execution_count": 25,
      "outputs": [
        {
          "output_type": "execute_result",
          "data": {
            "text/plain": [
              "0    233.0\n",
              "1    250.0\n",
              "2    204.0\n",
              "3    236.0\n",
              "4    354.0\n",
              "Name: chol, dtype: float64"
            ],
            "text/html": [
              "<div>\n",
              "<style scoped>\n",
              "    .dataframe tbody tr th:only-of-type {\n",
              "        vertical-align: middle;\n",
              "    }\n",
              "\n",
              "    .dataframe tbody tr th {\n",
              "        vertical-align: top;\n",
              "    }\n",
              "\n",
              "    .dataframe thead th {\n",
              "        text-align: right;\n",
              "    }\n",
              "</style>\n",
              "<table border=\"1\" class=\"dataframe\">\n",
              "  <thead>\n",
              "    <tr style=\"text-align: right;\">\n",
              "      <th></th>\n",
              "      <th>chol</th>\n",
              "    </tr>\n",
              "  </thead>\n",
              "  <tbody>\n",
              "    <tr>\n",
              "      <th>0</th>\n",
              "      <td>233.0</td>\n",
              "    </tr>\n",
              "    <tr>\n",
              "      <th>1</th>\n",
              "      <td>250.0</td>\n",
              "    </tr>\n",
              "    <tr>\n",
              "      <th>2</th>\n",
              "      <td>204.0</td>\n",
              "    </tr>\n",
              "    <tr>\n",
              "      <th>3</th>\n",
              "      <td>236.0</td>\n",
              "    </tr>\n",
              "    <tr>\n",
              "      <th>4</th>\n",
              "      <td>354.0</td>\n",
              "    </tr>\n",
              "  </tbody>\n",
              "</table>\n",
              "</div><br><label><b>dtype:</b> float64</label>"
            ]
          },
          "metadata": {},
          "execution_count": 25
        }
      ]
    },
    {
      "cell_type": "code",
      "source": [
        "df['chol'].unique()"
      ],
      "metadata": {
        "colab": {
          "base_uri": "https://localhost:8080/"
        },
        "id": "_fYj7GLJGmP_",
        "outputId": "8e1b207f-5dce-42ce-a8d6-b116d6a7a7d5"
      },
      "execution_count": 26,
      "outputs": [
        {
          "output_type": "execute_result",
          "data": {
            "text/plain": [
              "array([233., 250., 204., 236., 354., 192., 294., 263., 199., 168., 239.,\n",
              "       275., 266., 211., 283., 219., 340., 226., 247., 234., 243., 302.,\n",
              "       212., 175., 417., 197., 198., 177., 273., 213., 304., 232., 269.,\n",
              "       360., 308., 245., 208., 264., 321., 325., 235., 257., 216., 256.,\n",
              "       231., 141., 252., 201., 222., 260., 182., 303., 265., 309., 186.,\n",
              "       203., 183., 220., 209., 258., 227., 261., 221., 205., 240., 318.,\n",
              "       298., 564., 277., 214., 248., 255., 207., 223., 288., 160., 394.,\n",
              "       315., 246., 244., 270., 195., 196., 254., 126., 313., 262., 215.,\n",
              "       193., 271., 268., 267., 210., 295., 306., 178., 242., 180., 228.,\n",
              "       149., 278., 253., 342., 157., 286., 229., 284., 224., 206., 167.,\n",
              "       230., 335., 276., 353., 225., 330., 290., 172., 305., 188., 282.,\n",
              "       185., 326., 274., 164., 307., 249., 341., 407., 217., 174., 281.,\n",
              "       289., 322., 299., 300., 293., 184., 409., 259., 200., 327., 237.,\n",
              "       218., 319., 166., 311., 169., 187., 176., 241., 131., 132.,  nan,\n",
              "       161., 173., 194., 297., 292., 339., 147., 291., 358., 412., 238.,\n",
              "       163., 280., 202., 328., 129., 190., 179., 272., 100., 468., 320.,\n",
              "       312., 171., 365., 344.,  85., 347., 251., 287., 156., 117., 466.,\n",
              "       338., 529., 392., 329., 355., 603., 404., 518., 285., 279., 388.,\n",
              "       336., 491., 331., 393.])"
            ]
          },
          "metadata": {},
          "execution_count": 26
        }
      ]
    },
    {
      "cell_type": "code",
      "source": [
        "import seaborn as sns\n",
        "import matplotlib.pyplot as plt\n",
        "sns.set(style=\"whitegrid\")\n",
        "\n",
        "plt.figure(figsize=(10, 6))\n",
        "sns.histplot(df['chol'], kde=True, bins=10, color='skyblue', edgecolor='black')\n",
        "\n",
        "plt.title('Distribution of chol Values')\n",
        "plt.xlabel('chol')\n",
        "plt.ylabel('Frequency')\n",
        "plt.show()"
      ],
      "metadata": {
        "colab": {
          "base_uri": "https://localhost:8080/",
          "height": 573
        },
        "id": "sMFO0Q--GrAo",
        "outputId": "ef9a13c6-567f-46d3-d13e-179c8bdec450"
      },
      "execution_count": 27,
      "outputs": [
        {
          "output_type": "display_data",
          "data": {
            "text/plain": [
              "<Figure size 1000x600 with 1 Axes>"
            ],
            "image/png": "[encoded data removed]"
          },
          "metadata": {}
        }
      ]
    },
    {
      "cell_type": "code",
      "source": [
        "# Plotting the box plot\n",
        "plt.figure(figsize=(6, 8))\n",
        "sns.boxplot(y=df['chol'], color='lightgreen')\n",
        "\n",
        "plt.title('Box Plot of chol Values')\n",
        "plt.ylabel('chol')\n",
        "plt.show()"
      ],
      "metadata": {
        "colab": {
          "base_uri": "https://localhost:8080/",
          "height": 675
        },
        "id": "yS9u8cxCGvmo",
        "outputId": "8497d4f7-7e8a-44c7-dc99-148d2b811411"
      },
      "execution_count": 28,
      "outputs": [
        {
          "output_type": "display_data",
          "data": {
            "text/plain": [
              "<Figure size 600x800 with 1 Axes>"
            ],
            "image/png": "[encoded data removed]"
          },
          "metadata": {}
        }
      ]
    },
    {
      "cell_type": "code",
      "source": [
        "df['chol'].fillna(df['chol'].median(),inplace=True)"
      ],
      "metadata": {
        "colab": {
          "base_uri": "https://localhost:8080/"
        },
        "id": "1t4L8Vv9G08m",
        "outputId": "fcb936d9-4bdb-4864-9e66-37b8a1353ccf"
      },
      "execution_count": 29,
      "outputs": [
        {
          "output_type": "stream",
          "name": "stderr",
          "text": [
            "<ipython-input-29-a7d83bfd86ca>:1: FutureWarning: A value is trying to be set on a copy of a DataFrame or Series through chained assignment using an inplace method.\n",
            "The behavior will change in pandas 3.0. This inplace method will never work because the intermediate object on which we are setting values always behaves as a copy.\n",
            "\n",
            "For example, when doing 'df[col].method(value, inplace=True)', try using 'df.method({col: value}, inplace=True)' or df[col] = df[col].method(value) instead, to perform the operation inplace on the original object.\n",
            "\n",
            "\n",
            "  df['chol'].fillna(df['chol'].median(),inplace=True)\n"
          ]
        }
      ]
    },
    {
      "cell_type": "code",
      "source": [
        "df['chol'].isnull().sum()"
      ],
      "metadata": {
        "colab": {
          "base_uri": "https://localhost:8080/"
        },
        "id": "BtrcFtRyG48u",
        "outputId": "a4ec1d23-9058-4809-a7cc-0fb43a47e5dc"
      },
      "execution_count": 30,
      "outputs": [
        {
          "output_type": "execute_result",
          "data": {
            "text/plain": [
              "0"
            ]
          },
          "metadata": {},
          "execution_count": 30
        }
      ]
    },
    {
      "cell_type": "code",
      "source": [
        "print(df['chol'].unique())"
      ],
      "metadata": {
        "colab": {
          "base_uri": "https://localhost:8080/"
        },
        "id": "H1joBaGrG9A_",
        "outputId": "0e723dd3-d772-4277-aae9-9c6d4880e288"
      },
      "execution_count": 31,
      "outputs": [
        {
          "output_type": "stream",
          "name": "stdout",
          "text": [
            "[233. 250. 204. 236. 354. 192. 294. 263. 199. 168. 239. 275. 266. 211.\n",
            " 283. 219. 340. 226. 247. 234. 243. 302. 212. 175. 417. 197. 198. 177.\n",
            " 273. 213. 304. 232. 269. 360. 308. 245. 208. 264. 321. 325. 235. 257.\n",
            " 216. 256. 231. 141. 252. 201. 222. 260. 182. 303. 265. 309. 186. 203.\n",
            " 183. 220. 209. 258. 227. 261. 221. 205. 240. 318. 298. 564. 277. 214.\n",
            " 248. 255. 207. 223. 288. 160. 394. 315. 246. 244. 270. 195. 196. 254.\n",
            " 126. 313. 262. 215. 193. 271. 268. 267. 210. 295. 306. 178. 242. 180.\n",
            " 228. 149. 278. 253. 342. 157. 286. 229. 284. 224. 206. 167. 230. 335.\n",
            " 276. 353. 225. 330. 290. 172. 305. 188. 282. 185. 326. 274. 164. 307.\n",
            " 249. 341. 407. 217. 174. 281. 289. 322. 299. 300. 293. 184. 409. 259.\n",
            " 200. 327. 237. 218. 319. 166. 311. 169. 187. 176. 241. 131. 132. 161.\n",
            " 173. 194. 297. 292. 339. 147. 291. 358. 412. 238. 163. 280. 202. 328.\n",
            " 129. 190. 179. 272. 100. 468. 320. 312. 171. 365. 344.  85. 347. 251.\n",
            " 287. 156. 117. 466. 338. 529. 392. 329. 355. 603. 404. 518. 285. 279.\n",
            " 388. 336. 491. 331. 393.]\n"
          ]
        }
      ]
    },
    {
      "cell_type": "code",
      "source": [
        "def clean_fbs(val):\n",
        "  if(val=='?'):\n",
        "    return np.nan\n",
        "  else:\n",
        "    return int(val)\n",
        "\n",
        "df['fbs'] = df['fbs'].apply(clean_fbs)\n",
        "df['fbs'].head()"
      ],
      "metadata": {
        "colab": {
          "base_uri": "https://localhost:8080/",
          "height": 241
        },
        "id": "f-gsUbdSHAUo",
        "outputId": "59d809cb-baba-4812-bd6f-6f3412125b61"
      },
      "execution_count": 32,
      "outputs": [
        {
          "output_type": "execute_result",
          "data": {
            "text/plain": [
              "0    1.0\n",
              "1    0.0\n",
              "2    0.0\n",
              "3    0.0\n",
              "4    0.0\n",
              "Name: fbs, dtype: float64"
            ],
            "text/html": [
              "<div>\n",
              "<style scoped>\n",
              "    .dataframe tbody tr th:only-of-type {\n",
              "        vertical-align: middle;\n",
              "    }\n",
              "\n",
              "    .dataframe tbody tr th {\n",
              "        vertical-align: top;\n",
              "    }\n",
              "\n",
              "    .dataframe thead th {\n",
              "        text-align: right;\n",
              "    }\n",
              "</style>\n",
              "<table border=\"1\" class=\"dataframe\">\n",
              "  <thead>\n",
              "    <tr style=\"text-align: right;\">\n",
              "      <th></th>\n",
              "      <th>fbs</th>\n",
              "    </tr>\n",
              "  </thead>\n",
              "  <tbody>\n",
              "    <tr>\n",
              "      <th>0</th>\n",
              "      <td>1.0</td>\n",
              "    </tr>\n",
              "    <tr>\n",
              "      <th>1</th>\n",
              "      <td>0.0</td>\n",
              "    </tr>\n",
              "    <tr>\n",
              "      <th>2</th>\n",
              "      <td>0.0</td>\n",
              "    </tr>\n",
              "    <tr>\n",
              "      <th>3</th>\n",
              "      <td>0.0</td>\n",
              "    </tr>\n",
              "    <tr>\n",
              "      <th>4</th>\n",
              "      <td>0.0</td>\n",
              "    </tr>\n",
              "  </tbody>\n",
              "</table>\n",
              "</div><br><label><b>dtype:</b> float64</label>"
            ]
          },
          "metadata": {},
          "execution_count": 32
        }
      ]
    },
    {
      "cell_type": "code",
      "source": [
        "print(df['fbs'].isnull().sum())\n",
        "df.dropna(subset=['fbs'], inplace=True)"
      ],
      "metadata": {
        "colab": {
          "base_uri": "https://localhost:8080/"
        },
        "id": "lDZAu00bHFgw",
        "outputId": "cc455220-4fd3-40a5-b892-c80a38b6d853"
      },
      "execution_count": 33,
      "outputs": [
        {
          "output_type": "stream",
          "name": "stdout",
          "text": [
            "8\n"
          ]
        }
      ]
    },
    {
      "cell_type": "code",
      "source": [
        "print(df['fbs'].isnull().sum())"
      ],
      "metadata": {
        "colab": {
          "base_uri": "https://localhost:8080/"
        },
        "id": "0OYKEJQxHJ93",
        "outputId": "8df3d3f7-c782-465e-9817-2e6777a9b3b8"
      },
      "execution_count": 34,
      "outputs": [
        {
          "output_type": "stream",
          "name": "stdout",
          "text": [
            "0\n"
          ]
        }
      ]
    },
    {
      "cell_type": "code",
      "source": [
        "def clean_restecg(val):\n",
        "  if(val=='?'):\n",
        "    return np.nan\n",
        "  else:\n",
        "    return int(val)\n",
        "\n",
        "df['restecg'] = df['restecg'].apply(clean_restecg)\n",
        "df['restecg'].head()"
      ],
      "metadata": {
        "colab": {
          "base_uri": "https://localhost:8080/",
          "height": 241
        },
        "id": "1hiiFsGqHrT-",
        "outputId": "ac178866-9f0a-4560-fdb6-30163995598c"
      },
      "execution_count": 38,
      "outputs": [
        {
          "output_type": "execute_result",
          "data": {
            "text/plain": [
              "0    0.0\n",
              "1    1.0\n",
              "2    0.0\n",
              "3    1.0\n",
              "4    1.0\n",
              "Name: restecg, dtype: float64"
            ],
            "text/html": [
              "<div>\n",
              "<style scoped>\n",
              "    .dataframe tbody tr th:only-of-type {\n",
              "        vertical-align: middle;\n",
              "    }\n",
              "\n",
              "    .dataframe tbody tr th {\n",
              "        vertical-align: top;\n",
              "    }\n",
              "\n",
              "    .dataframe thead th {\n",
              "        text-align: right;\n",
              "    }\n",
              "</style>\n",
              "<table border=\"1\" class=\"dataframe\">\n",
              "  <thead>\n",
              "    <tr style=\"text-align: right;\">\n",
              "      <th></th>\n",
              "      <th>restecg</th>\n",
              "    </tr>\n",
              "  </thead>\n",
              "  <tbody>\n",
              "    <tr>\n",
              "      <th>0</th>\n",
              "      <td>0.0</td>\n",
              "    </tr>\n",
              "    <tr>\n",
              "      <th>1</th>\n",
              "      <td>1.0</td>\n",
              "    </tr>\n",
              "    <tr>\n",
              "      <th>2</th>\n",
              "      <td>0.0</td>\n",
              "    </tr>\n",
              "    <tr>\n",
              "      <th>3</th>\n",
              "      <td>1.0</td>\n",
              "    </tr>\n",
              "    <tr>\n",
              "      <th>4</th>\n",
              "      <td>1.0</td>\n",
              "    </tr>\n",
              "  </tbody>\n",
              "</table>\n",
              "</div><br><label><b>dtype:</b> float64</label>"
            ]
          },
          "metadata": {},
          "execution_count": 38
        }
      ]
    },
    {
      "cell_type": "code",
      "source": [
        "print(df['restecg'].isnull().sum())\n",
        "df.dropna(subset=['restecg'], inplace=True)"
      ],
      "metadata": {
        "colab": {
          "base_uri": "https://localhost:8080/"
        },
        "id": "HOKx7TvkHwD9",
        "outputId": "b30b1bdc-4f7b-4928-9123-a80eed09564c"
      },
      "execution_count": 39,
      "outputs": [
        {
          "output_type": "stream",
          "name": "stdout",
          "text": [
            "1\n"
          ]
        }
      ]
    }
  ]
}